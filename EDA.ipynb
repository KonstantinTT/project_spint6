{
 "cells": [
  {
   "cell_type": "code",
   "execution_count": 6,
   "id": "500ae945",
   "metadata": {},
   "outputs": [],
   "source": [
    "import pandas as pd "
   ]
  },
  {
   "cell_type": "code",
   "execution_count": null,
   "id": "96f55080",
   "metadata": {},
   "outputs": [
    {
     "data": {
      "text/html": [
       "<div>\n",
       "<style scoped>\n",
       "    .dataframe tbody tr th:only-of-type {\n",
       "        vertical-align: middle;\n",
       "    }\n",
       "\n",
       "    .dataframe tbody tr th {\n",
       "        vertical-align: top;\n",
       "    }\n",
       "\n",
       "    .dataframe thead th {\n",
       "        text-align: right;\n",
       "    }\n",
       "</style>\n",
       "<table border=\"1\" class=\"dataframe\">\n",
       "  <thead>\n",
       "    <tr style=\"text-align: right;\">\n",
       "      <th></th>\n",
       "      <th>price</th>\n",
       "      <th>model_year</th>\n",
       "      <th>model</th>\n",
       "      <th>condition</th>\n",
       "      <th>cylinders</th>\n",
       "      <th>fuel</th>\n",
       "      <th>odometer</th>\n",
       "      <th>transmission</th>\n",
       "      <th>type</th>\n",
       "      <th>paint_color</th>\n",
       "      <th>is_4wd</th>\n",
       "      <th>date_posted</th>\n",
       "      <th>days_listed</th>\n",
       "    </tr>\n",
       "  </thead>\n",
       "  <tbody>\n",
       "    <tr>\n",
       "      <th>0</th>\n",
       "      <td>9400</td>\n",
       "      <td>2011.0</td>\n",
       "      <td>bmw x5</td>\n",
       "      <td>good</td>\n",
       "      <td>6.0</td>\n",
       "      <td>gas</td>\n",
       "      <td>145000.0</td>\n",
       "      <td>automatic</td>\n",
       "      <td>SUV</td>\n",
       "      <td>NaN</td>\n",
       "      <td>1.0</td>\n",
       "      <td>2018-06-23</td>\n",
       "      <td>19</td>\n",
       "    </tr>\n",
       "    <tr>\n",
       "      <th>1</th>\n",
       "      <td>25500</td>\n",
       "      <td>NaN</td>\n",
       "      <td>ford f-150</td>\n",
       "      <td>good</td>\n",
       "      <td>6.0</td>\n",
       "      <td>gas</td>\n",
       "      <td>88705.0</td>\n",
       "      <td>automatic</td>\n",
       "      <td>pickup</td>\n",
       "      <td>white</td>\n",
       "      <td>1.0</td>\n",
       "      <td>2018-10-19</td>\n",
       "      <td>50</td>\n",
       "    </tr>\n",
       "    <tr>\n",
       "      <th>2</th>\n",
       "      <td>5500</td>\n",
       "      <td>2013.0</td>\n",
       "      <td>hyundai sonata</td>\n",
       "      <td>like new</td>\n",
       "      <td>4.0</td>\n",
       "      <td>gas</td>\n",
       "      <td>110000.0</td>\n",
       "      <td>automatic</td>\n",
       "      <td>sedan</td>\n",
       "      <td>red</td>\n",
       "      <td>NaN</td>\n",
       "      <td>2019-02-07</td>\n",
       "      <td>79</td>\n",
       "    </tr>\n",
       "    <tr>\n",
       "      <th>3</th>\n",
       "      <td>1500</td>\n",
       "      <td>2003.0</td>\n",
       "      <td>ford f-150</td>\n",
       "      <td>fair</td>\n",
       "      <td>8.0</td>\n",
       "      <td>gas</td>\n",
       "      <td>NaN</td>\n",
       "      <td>automatic</td>\n",
       "      <td>pickup</td>\n",
       "      <td>NaN</td>\n",
       "      <td>NaN</td>\n",
       "      <td>2019-03-22</td>\n",
       "      <td>9</td>\n",
       "    </tr>\n",
       "    <tr>\n",
       "      <th>4</th>\n",
       "      <td>14900</td>\n",
       "      <td>2017.0</td>\n",
       "      <td>chrysler 200</td>\n",
       "      <td>excellent</td>\n",
       "      <td>4.0</td>\n",
       "      <td>gas</td>\n",
       "      <td>80903.0</td>\n",
       "      <td>automatic</td>\n",
       "      <td>sedan</td>\n",
       "      <td>black</td>\n",
       "      <td>NaN</td>\n",
       "      <td>2019-04-02</td>\n",
       "      <td>28</td>\n",
       "    </tr>\n",
       "  </tbody>\n",
       "</table>\n",
       "</div>"
      ],
      "text/plain": [
       "   price  model_year           model  condition  cylinders fuel  odometer  \\\n",
       "0   9400      2011.0          bmw x5       good        6.0  gas  145000.0   \n",
       "1  25500         NaN      ford f-150       good        6.0  gas   88705.0   \n",
       "2   5500      2013.0  hyundai sonata   like new        4.0  gas  110000.0   \n",
       "3   1500      2003.0      ford f-150       fair        8.0  gas       NaN   \n",
       "4  14900      2017.0    chrysler 200  excellent        4.0  gas   80903.0   \n",
       "\n",
       "  transmission    type paint_color  is_4wd date_posted  days_listed  \n",
       "0    automatic     SUV         NaN     1.0  2018-06-23           19  \n",
       "1    automatic  pickup       white     1.0  2018-10-19           50  \n",
       "2    automatic   sedan         red     NaN  2019-02-07           79  \n",
       "3    automatic  pickup         NaN     NaN  2019-03-22            9  \n",
       "4    automatic   sedan       black     NaN  2019-04-02           28  "
      ]
     },
     "execution_count": 7,
     "metadata": {},
     "output_type": "execute_result"
    }
   ],
   "source": [
    "data=pd.read_csv('vehicles_us.csv') #Load the dataset\n",
    "data.head()"
   ]
  },
  {
   "cell_type": "code",
   "execution_count": null,
   "id": "2c327006",
   "metadata": {},
   "outputs": [
    {
     "name": "stdout",
     "output_type": "stream",
     "text": [
      "<class 'pandas.core.frame.DataFrame'>\n",
      "RangeIndex: 51525 entries, 0 to 51524\n",
      "Data columns (total 13 columns):\n",
      " #   Column        Non-Null Count  Dtype  \n",
      "---  ------        --------------  -----  \n",
      " 0   price         51525 non-null  int64  \n",
      " 1   model_year    47906 non-null  float64\n",
      " 2   model         51525 non-null  object \n",
      " 3   condition     51525 non-null  object \n",
      " 4   cylinders     46265 non-null  float64\n",
      " 5   fuel          51525 non-null  object \n",
      " 6   odometer      43633 non-null  float64\n",
      " 7   transmission  51525 non-null  object \n",
      " 8   type          51525 non-null  object \n",
      " 9   paint_color   42258 non-null  object \n",
      " 10  is_4wd        25572 non-null  float64\n",
      " 11  date_posted   51525 non-null  object \n",
      " 12  days_listed   51525 non-null  int64  \n",
      "dtypes: float64(4), int64(2), object(7)\n",
      "memory usage: 5.1+ MB\n"
     ]
    }
   ],
   "source": [
    "data.info() #Check the data types and null values\n"
   ]
  },
  {
   "cell_type": "code",
   "execution_count": 9,
   "id": "61ed66a9",
   "metadata": {},
   "outputs": [
    {
     "data": {
      "text/plain": [
       "Index(['price', 'model_year', 'model', 'condition', 'cylinders', 'fuel',\n",
       "       'odometer', 'transmission', 'type', 'paint_color', 'is_4wd',\n",
       "       'date_posted', 'days_listed'],\n",
       "      dtype='object')"
      ]
     },
     "execution_count": 9,
     "metadata": {},
     "output_type": "execute_result"
    }
   ],
   "source": [
    "data.columns\n",
    "## checking the columns of the data\n"
   ]
  },
  {
   "cell_type": "code",
   "execution_count": 10,
   "id": "39671e06",
   "metadata": {},
   "outputs": [
    {
     "data": {
      "text/plain": [
       "price               0\n",
       "model_year       3619\n",
       "model               0\n",
       "condition           0\n",
       "cylinders        5260\n",
       "fuel                0\n",
       "odometer         7892\n",
       "transmission        0\n",
       "type                0\n",
       "paint_color      9267\n",
       "is_4wd          25953\n",
       "date_posted         0\n",
       "days_listed         0\n",
       "dtype: int64"
      ]
     },
     "execution_count": 10,
     "metadata": {},
     "output_type": "execute_result"
    }
   ],
   "source": [
    "data.isnull().sum()\n",
    "## checking the null values in the data\n"
   ]
  },
  {
   "cell_type": "code",
   "execution_count": null,
   "id": "f3e6d87c",
   "metadata": {},
   "outputs": [
    {
     "data": {
      "text/plain": [
       "price           0\n",
       "model_year      0\n",
       "model           0\n",
       "condition       0\n",
       "cylinders       0\n",
       "fuel            0\n",
       "odometer        0\n",
       "transmission    0\n",
       "type            0\n",
       "paint_color     0\n",
       "is_4wd          0\n",
       "date_posted     0\n",
       "days_listed     0\n",
       "dtype: int64"
      ]
     },
     "execution_count": 11,
     "metadata": {},
     "output_type": "execute_result"
    }
   ],
   "source": [
    "## replacing the null values with unknown in the data\n",
    "data['model_year']=data['model_year'].fillna('unknown')     \n",
    "data['odometer']=data['odometer'].fillna('unknown')\n",
    "data['paint_color']=data['paint_color'].fillna('unknown')\n",
    "data['is_4wd']=data['is_4wd'].fillna('unknown')\n",
    "data.isnull().sum() \n"
   ]
  },
  {
   "cell_type": "code",
   "execution_count": 12,
   "id": "1e2aeeba",
   "metadata": {},
   "outputs": [
    {
     "data": {
      "text/plain": [
       "0        False\n",
       "1        False\n",
       "2        False\n",
       "3        False\n",
       "4        False\n",
       "         ...  \n",
       "51520    False\n",
       "51521    False\n",
       "51522    False\n",
       "51523    False\n",
       "51524    False\n",
       "Length: 51525, dtype: bool"
      ]
     },
     "execution_count": 12,
     "metadata": {},
     "output_type": "execute_result"
    }
   ],
   "source": [
    "data.duplicated() ## checking the duplicate values in the data"
   ]
  },
  {
   "cell_type": "code",
   "execution_count": 13,
   "id": "12ca27e0",
   "metadata": {},
   "outputs": [
    {
     "data": {
      "text/html": [
       "<div>\n",
       "<style scoped>\n",
       "    .dataframe tbody tr th:only-of-type {\n",
       "        vertical-align: middle;\n",
       "    }\n",
       "\n",
       "    .dataframe tbody tr th {\n",
       "        vertical-align: top;\n",
       "    }\n",
       "\n",
       "    .dataframe thead th {\n",
       "        text-align: right;\n",
       "    }\n",
       "</style>\n",
       "<table border=\"1\" class=\"dataframe\">\n",
       "  <thead>\n",
       "    <tr style=\"text-align: right;\">\n",
       "      <th></th>\n",
       "      <th>price</th>\n",
       "      <th>model_year</th>\n",
       "      <th>model</th>\n",
       "      <th>condition</th>\n",
       "      <th>cylinders</th>\n",
       "      <th>fuel</th>\n",
       "      <th>odometer</th>\n",
       "      <th>transmission</th>\n",
       "      <th>type</th>\n",
       "      <th>paint_color</th>\n",
       "      <th>is_4wd</th>\n",
       "      <th>date_posted</th>\n",
       "      <th>days_listed</th>\n",
       "    </tr>\n",
       "  </thead>\n",
       "  <tbody>\n",
       "    <tr>\n",
       "      <th>0</th>\n",
       "      <td>9400</td>\n",
       "      <td>2011.0</td>\n",
       "      <td>bmw x5</td>\n",
       "      <td>good</td>\n",
       "      <td>6.0</td>\n",
       "      <td>gas</td>\n",
       "      <td>145000.0</td>\n",
       "      <td>automatic</td>\n",
       "      <td>SUV</td>\n",
       "      <td>unknown</td>\n",
       "      <td>1.0</td>\n",
       "      <td>2018-06-23</td>\n",
       "      <td>19</td>\n",
       "    </tr>\n",
       "    <tr>\n",
       "      <th>1</th>\n",
       "      <td>25500</td>\n",
       "      <td>unknown</td>\n",
       "      <td>ford f-150</td>\n",
       "      <td>good</td>\n",
       "      <td>6.0</td>\n",
       "      <td>gas</td>\n",
       "      <td>88705.0</td>\n",
       "      <td>automatic</td>\n",
       "      <td>pickup</td>\n",
       "      <td>white</td>\n",
       "      <td>1.0</td>\n",
       "      <td>2018-10-19</td>\n",
       "      <td>50</td>\n",
       "    </tr>\n",
       "    <tr>\n",
       "      <th>2</th>\n",
       "      <td>5500</td>\n",
       "      <td>2013.0</td>\n",
       "      <td>hyundai sonata</td>\n",
       "      <td>like new</td>\n",
       "      <td>4.0</td>\n",
       "      <td>gas</td>\n",
       "      <td>110000.0</td>\n",
       "      <td>automatic</td>\n",
       "      <td>sedan</td>\n",
       "      <td>red</td>\n",
       "      <td>unknown</td>\n",
       "      <td>2019-02-07</td>\n",
       "      <td>79</td>\n",
       "    </tr>\n",
       "    <tr>\n",
       "      <th>3</th>\n",
       "      <td>1500</td>\n",
       "      <td>2003.0</td>\n",
       "      <td>ford f-150</td>\n",
       "      <td>fair</td>\n",
       "      <td>8.0</td>\n",
       "      <td>gas</td>\n",
       "      <td>unknown</td>\n",
       "      <td>automatic</td>\n",
       "      <td>pickup</td>\n",
       "      <td>unknown</td>\n",
       "      <td>unknown</td>\n",
       "      <td>2019-03-22</td>\n",
       "      <td>9</td>\n",
       "    </tr>\n",
       "    <tr>\n",
       "      <th>4</th>\n",
       "      <td>14900</td>\n",
       "      <td>2017.0</td>\n",
       "      <td>chrysler 200</td>\n",
       "      <td>excellent</td>\n",
       "      <td>4.0</td>\n",
       "      <td>gas</td>\n",
       "      <td>80903.0</td>\n",
       "      <td>automatic</td>\n",
       "      <td>sedan</td>\n",
       "      <td>black</td>\n",
       "      <td>unknown</td>\n",
       "      <td>2019-04-02</td>\n",
       "      <td>28</td>\n",
       "    </tr>\n",
       "  </tbody>\n",
       "</table>\n",
       "</div>"
      ],
      "text/plain": [
       "   price model_year           model  condition cylinders fuel  odometer  \\\n",
       "0   9400     2011.0          bmw x5       good       6.0  gas  145000.0   \n",
       "1  25500    unknown      ford f-150       good       6.0  gas   88705.0   \n",
       "2   5500     2013.0  hyundai sonata   like new       4.0  gas  110000.0   \n",
       "3   1500     2003.0      ford f-150       fair       8.0  gas   unknown   \n",
       "4  14900     2017.0    chrysler 200  excellent       4.0  gas   80903.0   \n",
       "\n",
       "  transmission    type paint_color   is_4wd date_posted  days_listed  \n",
       "0    automatic     SUV     unknown      1.0  2018-06-23           19  \n",
       "1    automatic  pickup       white      1.0  2018-10-19           50  \n",
       "2    automatic   sedan         red  unknown  2019-02-07           79  \n",
       "3    automatic  pickup     unknown  unknown  2019-03-22            9  \n",
       "4    automatic   sedan       black  unknown  2019-04-02           28  "
      ]
     },
     "execution_count": 13,
     "metadata": {},
     "output_type": "execute_result"
    }
   ],
   "source": [
    "data.head()"
   ]
  },
  {
   "cell_type": "code",
   "execution_count": null,
   "id": "0e369242",
   "metadata": {
    "vscode": {
     "languageId": "shellscript"
    }
   },
   "outputs": [
    {
     "name": "stdout",
     "output_type": "stream",
     "text": [
      "1. excellent\n",
      "2. fair\n",
      "3. good\n",
      "4. like new\n",
      "5. new\n",
      "6. salvage\n"
     ]
    }
   ],
   "source": [
    "#checkin the unique conditions in the data\n",
    "\n",
    "unique_conditions = sorted(data['condition'].unique())\n",
    "for idx, condition in enumerate(unique_conditions, start=1):\n",
    "    print(f\"{idx}. {condition}\")"
   ]
  },
  {
   "cell_type": "code",
   "execution_count": null,
   "id": "e60aa6d8",
   "metadata": {},
   "outputs": [
    {
     "name": "stdout",
     "output_type": "stream",
     "text": [
      "1. SUV\n",
      "2. bus\n",
      "3. convertible\n",
      "4. coupe\n",
      "5. hatchback\n",
      "6. mini-van\n",
      "7. offroad\n",
      "8. other\n",
      "9. pickup\n",
      "10. sedan\n",
      "11. truck\n",
      "12. van\n",
      "13. wagon\n"
     ]
    }
   ],
   "source": [
    "## checking the unique types in the data\n",
    "unique_type = sorted(data['type'].unique())\n",
    "for idx, type in enumerate(unique_type, start=1):\n",
    "    print(f\"{idx}. {type}\")"
   ]
  },
  {
   "cell_type": "code",
   "execution_count": null,
   "id": "90577e2a",
   "metadata": {
    "vscode": {
     "languageId": "shellscript"
    }
   },
   "outputs": [
    {
     "name": "stdout",
     "output_type": "stream",
     "text": [
      "1. unknown\n",
      "2. white\n",
      "3. red\n",
      "4. black\n",
      "5. blue\n",
      "6. grey\n",
      "7. silver\n",
      "8. custom\n",
      "9. orange\n",
      "10. yellow\n",
      "11. brown\n",
      "12. green\n",
      "13. purple\n"
     ]
    }
   ],
   "source": [
    "###checkin the unique paint colors in the data\n",
    "unique_paint_colors = data['paint_color'].unique()\n",
    "for idx, color in enumerate(unique_paint_colors, start=1):\n",
    "    print(f\"{idx}. {color}\")\n"
   ]
  },
  {
   "cell_type": "code",
   "execution_count": null,
   "id": "0c3f2269",
   "metadata": {},
   "outputs": [
    {
     "name": "stdout",
     "output_type": "stream",
     "text": [
      "Max price =  375000\n",
      "Min price =  1\n",
      "Minimum model_year (excluding \"unknown\"): 1908\n",
      "Maximum model_year (excluding \"unknown\"): 2019\n",
      "['good' 'like new' 'fair' 'excellent' 'salvage' 'new']\n",
      "Maximum cylinders (excluding \"unknown\"): 12\n",
      "Minimum cylinders (excluding \"unknown\"): 3\n",
      "Maximum odometer (excluding \"unknown\"): 990000\n",
      "Minimum odometer (excluding \"unknown\"): 0\n",
      "Maximum days_listed (excluding \"unknown\"): 271.0\n",
      "Minimum days_listed (excluding \"unknown\"): 0.0\n"
     ]
    }
   ],
   "source": [
    "##Exploring minimum and maximum values of the data\n",
    "print('Max price = ',data.price.max())\n",
    "\n",
    "print('Min price = ',data.price.min())  \n",
    "\n",
    "min_model_year_int = data[data['model_year'] != 'unknown']['model_year'].astype(float).astype(int).min()\n",
    "print('Minimum model_year (excluding \"unknown\"):', min_model_year_int)\n",
    "\n",
    "max_model_year_int = data[data['model_year'] != 'unknown']['model_year'].astype(float).astype(int).max()\n",
    "print('Maximum model_year (excluding \"unknown\"):', max_model_year_int)\n",
    "\n",
    "\n",
    "print(data.condition.unique())\n",
    "\n",
    "max_cylinders_int = data[data['cylinders'] != 'unknown']['cylinders'].astype(float).astype(int).max()\n",
    "print('Maximum cylinders (excluding \"unknown\"):', max_cylinders_int)\n",
    "\n",
    "\n",
    "min_cylinders_int = data[data['cylinders'] != 'unknown']['cylinders'].astype(float).astype(int).min()\n",
    "print('Minimum cylinders (excluding \"unknown\"):', min_cylinders_int)\n",
    "\n",
    "##print('Max odometer = ',data.odometer.max())\n",
    "max_odometer_int = data[data['odometer'] != 'unknown']['odometer'].astype(float).astype(int).max()\n",
    "print('Maximum odometer (excluding \"unknown\"):', max_odometer_int)\n",
    "\n",
    "##print('Min odometer = ', data.odometer.min())\n",
    "min_odometer_int = data[data['odometer'] != 'unknown']['odometer'].astype(float).astype(int).min()\n",
    "print('Minimum odometer (excluding \"unknown\"):', min_odometer_int)\n",
    "\n",
    "\n",
    "\n",
    "max_days_listed = data[data['days_listed'] != 'unknown']['days_listed'].astype(float).max()\n",
    "print('Maximum days_listed (excluding \"unknown\"):', max_days_listed)\n",
    "\n",
    "\n",
    "min_days_listed = data[data['days_listed'] != 'unknown']['days_listed'].astype(float).min()\n",
    "print('Minimum days_listed (excluding \"unknown\"):', min_days_listed)"
   ]
  },
  {
   "cell_type": "code",
   "execution_count": null,
   "id": "e467c52d",
   "metadata": {},
   "outputs": [],
   "source": []
  }
 ],
 "metadata": {
  "kernelspec": {
   "display_name": ".venv",
   "language": "python",
   "name": "python3"
  },
  "language_info": {
   "codemirror_mode": {
    "name": "ipython",
    "version": 3
   },
   "file_extension": ".py",
   "mimetype": "text/x-python",
   "name": "python",
   "nbconvert_exporter": "python",
   "pygments_lexer": "ipython3",
   "version": "3.13.3"
  }
 },
 "nbformat": 4,
 "nbformat_minor": 5
}
